{
 "cells": [
  {
   "cell_type": "code",
   "execution_count": 360,
   "metadata": {},
   "outputs": [],
   "source": [
    "import numpy as np\n",
    "import random\n",
    "import matplotlib.pyplot as plt"
   ]
  },
  {
   "cell_type": "code",
   "execution_count": 361,
   "metadata": {},
   "outputs": [],
   "source": [
    "blue = np.array([])\n",
    "orange = np.array([])\n",
    "\n",
    "for i in range(10):\n",
    "    blue   = np.append(blue, np.random.normal([1,0], [1,1]))\n",
    "    orange = np.append(orange, np.random.normal([0,1], [1,1]))\n",
    "blue.shape = (10, 2)  \n",
    "orange.shape = (10,2)"
   ]
  },
  {
   "cell_type": "code",
   "execution_count": 362,
   "metadata": {},
   "outputs": [],
   "source": [
    "blue_observations = np.array([])\n",
    "orange_observations = np.array([])\n",
    "\n",
    "for i in range(100):\n",
    "    blue_mk = random.choice(blue)\n",
    "    orange_mk = random.choice(orange)\n",
    "    blue_observations = np.append(blue_observations, np.random.normal(blue_mk, [1/5, 1/5]))\n",
    "    orange_observations = np.append(orange_observations, np.random.normal(orange_mk, [1/5, 1/5]))\n",
    "blue_observations.shape = (100, 2)    \n",
    "orange_observations.shape = (100, 2)    "
   ]
  },
  {
   "cell_type": "code",
   "execution_count": 363,
   "metadata": {},
   "outputs": [
    {
     "data": {
      "text/plain": [
       "[]"
      ]
     },
     "execution_count": 363,
     "metadata": {},
     "output_type": "execute_result"
    },
    {
     "data": {
      "image/png": "[encoded data removed]",
      "text/plain": [
       "<Figure size 432x288 with 1 Axes>"
      ]
     },
     "metadata": {
      "needs_background": "light"
     },
     "output_type": "display_data"
    }
   ],
   "source": [
    "plt.scatter(blue_observations[:,0], blue_observations[:,1])\n",
    "plt.scatter(orange_observations[:,0], orange_observations[:,1])\n",
    "plt.plot()"
   ]
  },
  {
   "cell_type": "markdown",
   "metadata": {},
   "source": [
    "### Bayes classifier"
   ]
  },
  {
   "cell_type": "markdown",
   "metadata": {},
   "source": [
    "`G(x) = max{P(Y = blue | X),P(Y = orange | X)}`\n",
    "\n",
    "Conditioning on X:\n",
    "\n",
    "`G(x) = max{P(X | Y = bue)*P(Y = blue), P(X | Y = orange)*P(Y = orange)}`\n",
    "\n",
    "We know that `P(Y = blue) = P(Y = orange) = 0.5`\n",
    "\n",
    "Thus:\n",
    "\n",
    "`G(x) = max{P(X | Y = blue), P(X | Y = orange)}`\n",
    "\n",
    "We can say that `P(X | Y = blue) = N(E[blue_mk], [1/5, 1/5])`, where `E[blue_mk]` is the expected value for blue_mk, which is [1, 0]. Similarly, we have `P(X | Y = orange) = N(E[orange_mk], [1/5, 1/5])`, where `E[orange_mk] = [0, 1]`\n",
    "\n",
    "So our optimal bayes classifier could be implemented like this:"
   ]
  },
  {
   "cell_type": "code",
   "execution_count": null,
   "metadata": {},
   "outputs": [],
   "source": [
    "def optimal_bayes_classifier(X):\n",
    "    p_x_given_blue ="
   ]
  },
  {
   "cell_type": "code",
   "execution_count": 365,
   "metadata": {},
   "outputs": [
    {
     "data": {
      "text/plain": [
       "5.0"
      ]
     },
     "execution_count": 365,
     "metadata": {},
     "output_type": "execute_result"
    }
   ],
   "source": [
    "np.linalg.norm([3,4])"
   ]
  },
  {
   "cell_type": "code",
   "execution_count": null,
   "metadata": {},
   "outputs": [],
   "source": []
  }
 ],
 "metadata": {
  "kernelspec": {
   "display_name": "Python 3",
   "language": "python",
   "name": "python3"
  },
  "language_info": {
   "codemirror_mode": {
    "name": "ipython",
    "version": 3
   },
   "file_extension": ".py",
   "mimetype": "text/x-python",
   "name": "python",
   "nbconvert_exporter": "python",
   "pygments_lexer": "ipython3",
   "version": "3.7.1"
  }
 },
 "nbformat": 4,
 "nbformat_minor": 2
}
