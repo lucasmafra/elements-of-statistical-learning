{
 "cells": [
  {
   "cell_type": "code",
   "execution_count": 483,
   "metadata": {},
   "outputs": [],
   "source": [
    "import numpy as np\n",
    "import random\n",
    "import matplotlib.pyplot as plt\n",
    "import math\n",
    "from scipy.stats import norm, multivariate_normal\n",
    "import scipy.integrate as integrate"
   ]
  },
  {
   "cell_type": "markdown",
   "metadata": {},
   "source": [
    "# Optimal Bayes Classifier"
   ]
  },
  {
   "cell_type": "markdown",
   "metadata": {},
   "source": [
    "This is a exploratory study on Bayes Classifier motivated by exercise 2.2 of *Elements of Statistical learning* book. \n",
    "\n",
    "We have the following data generating process:\n",
    "\n",
    "> *(...) First we generated 10 means mk from a bivariate Gaussian distribution N((1, 0), ***I***) and labeled this class BLUE. Similarly, 10 more were drawn from N((0, 1), ***I***) and labeled class ORANGE. Then for each class we generated 100 observations as follows: for each observation, we picked an mk at random with probability 1/10, and then generated a N(mk, ***I***/5), thus leading to a mixture of Gaussian clusters for each class. (...)*\n",
    "\n",
    "In this notebook we're interested in obtaining an expression for Bayes Classifier, visualize its decision boundary and compute both it's theoretical and experimental accuracy through a dataset generated following the process descripted above."
   ]
  },
  {
   "cell_type": "markdown",
   "metadata": {},
   "source": [
    "### Generating the data"
   ]
  },
  {
   "cell_type": "code",
   "execution_count": 510,
   "metadata": {},
   "outputs": [],
   "source": [
    "blue_means   = np.random.multivariate_normal([1, 0], np.identity(2), 10)\n",
    "orange_means = np.random.multivariate_normal([0, 1], np.identity(2), 10)"
   ]
  },
  {
   "cell_type": "code",
   "execution_count": 502,
   "metadata": {},
   "outputs": [],
   "source": [
    "def generate_observations(n):\n",
    "    blue_observations = np.array([])\n",
    "    orange_observations = np.array([])\n",
    "    for i in range(n):        \n",
    "        blue_observations = np.append(blue_observations, np.random.multivariate_normal(random.choice(blue_means), np.identity(2)/5))\n",
    "        orange_observations = np.append(orange_observations, np.random.multivariate_normal(random.choice(orange_means), np.identity(2)/5))\n",
    "    blue_observations.shape = (n, 2)    \n",
    "    orange_observations.shape = (n, 2)\n",
    "    return blue_observations, orange_observations"
   ]
  },
  {
   "cell_type": "code",
   "execution_count": 504,
   "metadata": {},
   "outputs": [
    {
     "data": {
      "image/png": "[encoded data removed]",
      "text/plain": [
       "<Figure size 432x288 with 1 Axes>"
      ]
     },
     "metadata": {
      "needs_background": "light"
     },
     "output_type": "display_data"
    }
   ],
   "source": [
    "blue_observations, orange_observations = generate_observations(100)\n",
    "plt.scatter(blue_observations[:, 0], blue_observations[:, 1])\n",
    "plt.scatter(orange_observations[:, 0], orange_observations[:, 1])\n",
    "plt.show()"
   ]
  },
  {
   "cell_type": "markdown",
   "metadata": {},
   "source": [
    "### Bayes optimal classifier\n",
    "\n",
    "Let `Pi` denote the prior probability that a pattern from class `i` occurs; and `fi(x)` the probability density of the feature vectors that originate from patterns from class `i`. We also let `f(x)` the total density probability of the feature vectors$$f(x) = \\sum_{i=1}^C P_if_i(x)$$ where C represents the number of classes. The posterior probability that an observed feature vector `x` belongs to class `i` can be obtained from Bayes theorem as:\n",
    "\n",
    "$$\\hat{P}_i(x) = Pr(i | x) = \\frac{f_i(x)P_i}{f(x)} $$\n",
    "\n",
    "The Bayes Classifier is given by:\n",
    "\n",
    "$$\\hat{G}(x) = \\max\\limits_{{1 \\leq i \\leq C}} \\hat{P}_i(x)$$\n",
    "\n",
    "And it's accuracy is given by:\n",
    "\n",
    "$$Accuracy = \\int \\hat{G}(x)f(x)dx$$"
   ]
  },
  {
   "cell_type": "code",
   "execution_count": 507,
   "metadata": {},
   "outputs": [],
   "source": [
    "def f1(x): # density function for inputs originated from class blue\n",
    "    p = 0\n",
    "    for i in blue:\n",
    "        p += multivariate_normal.pdf(x, mean=i, cov=np.identity(2)/5)\n",
    "    return p/len(blue)\n",
    "\n",
    "def f2(x): # density function for inputs originated from class orange\n",
    "    p = 0\n",
    "    for i in orange:\n",
    "        p += multivariate_normal.pdf(x, mean=i, cov=np.identity(2)/5)\n",
    "    return p/len(orange)\n",
    "\n",
    "P1 = 0.5 # prior probability that a pattern from class blue occurs\n",
    "P2 = 0.5 # prior probability that a pattern from class orange occurs\n",
    "\n",
    "def f(x): # total density function for inputs \n",
    "    return P1*f1(x) + P2*f2(x)\n",
    "\n",
    "def p_hat_1(x):\n",
    "    return (f1(x)/f(x))*P1\n",
    "\n",
    "def p_hat_2(x):\n",
    "    return (f2(x)/f(x))*P2\n",
    "\n",
    "def optimal_bayes_classifier(x):\n",
    "    if p_hat_1(x) >= 0.5:\n",
    "        return \"blue\"\n",
    "    return \"orange\"\n",
    "\n",
    "def theoretical_accuracy(): # TODO: improve integral computation, for now, we're integrating from (-5,-5) to (5,5) with 0.01 area size\n",
    "    y = []\n",
    "    for i in range(-50, 50):\n",
    "        for j in range(-50, 50):\n",
    "            y.append(f([i/10,j/10])*max(p_hat_1([i/10,j/10]),p_hat_2([i/10,j/10])))    \n",
    "    return sum(y)/100\n",
    "\n",
    "def experimental_accuracy(blue_observations, orange_observations):\n",
    "    correct_predictions = 0\n",
    "    for x_blue, x_orange in zip(blue_observations, orange_observations):\n",
    "        if optimal_bayes_classifier(x_blue) == \"blue\":\n",
    "            correct_predictions += 1\n",
    "        if optimal_bayes_classifier(x_orange) == \"orange\":\n",
    "            correct_predictions += 1\n",
    "    return correct_predictions/(len(blue_observations) + len(orange_observations))\n",
    "    \n",
    "        "
   ]
  },
  {
   "cell_type": "markdown",
   "metadata": {},
   "source": [
    "### Experimental accuracy x Theoretical accuracy"
   ]
  },
  {
   "cell_type": "markdown",
   "metadata": {},
   "source": [
    "Let's generate a bigger dataset and see how Bayes classifier perform:"
   ]
  },
  {
   "cell_type": "code",
   "execution_count": 508,
   "metadata": {},
   "outputs": [],
   "source": [
    "blue_observations, orange_observations = generate_observations(10000)"
   ]
  },
  {
   "cell_type": "code",
   "execution_count": 509,
   "metadata": {},
   "outputs": [
    {
     "name": "stdout",
     "output_type": "stream",
     "text": [
      "Theoretical Accuracy:  0.8332\n",
      "Experimental Accuracy:  0.7956\n"
     ]
    }
   ],
   "source": [
    "print(\"Theoretical Accuracy: \", \"{:.4f}\".format(theoretical_accuracy()))\n",
    "print(\"Experimental Accuracy: \", \"{:.4f}\".format(experimental_accuracy(blue_observations, orange_observations)))"
   ]
  },
  {
   "cell_type": "markdown",
   "metadata": {},
   "source": [
    "### Decision Boundary"
   ]
  },
  {
   "cell_type": "code",
   "execution_count": null,
   "metadata": {},
   "outputs": [],
   "source": [
    "blue_predictions = np.array([])\n",
    "orange_predictions = np.array([])\n",
    "\n",
    "for i in range(-50, 50):\n",
    "    for j in range(-50, 50):        \n",
    "        prediction = optimal_bayes_classifier([i/10, j/10])\n",
    "        if prediction == \"blue\":\n",
    "            blue_predictions = np.append(blue_predictions, [i/10,j/10])\n",
    "        else:\n",
    "            orange_predictions = np.append(orange_predictions, [i/10,j/10])\n",
    "\n",
    "blue_predictions.shape = (int(len(blue_predictions)/2), 2)\n",
    "orange_predictions.shape = (int(len(orange_predictions)/2), 2)\n",
    "\n",
    "plt.scatter(blue_predictions[:,0], blue_predictions[:,1])\n",
    "plt.scatter(orange_predictions[:,0], orange_predictions[:,1])\n",
    "plt.show()"
   ]
  },
  {
   "cell_type": "code",
   "execution_count": null,
   "metadata": {},
   "outputs": [],
   "source": []
  }
 ],
 "metadata": {
  "kernelspec": {
   "display_name": "Python 3",
   "language": "python",
   "name": "python3"
  },
  "language_info": {
   "codemirror_mode": {
    "name": "ipython",
    "version": 3
   },
   "file_extension": ".py",
   "mimetype": "text/x-python",
   "name": "python",
   "nbconvert_exporter": "python",
   "pygments_lexer": "ipython3",
   "version": "3.7.1"
  }
 },
 "nbformat": 4,
 "nbformat_minor": 2
}
