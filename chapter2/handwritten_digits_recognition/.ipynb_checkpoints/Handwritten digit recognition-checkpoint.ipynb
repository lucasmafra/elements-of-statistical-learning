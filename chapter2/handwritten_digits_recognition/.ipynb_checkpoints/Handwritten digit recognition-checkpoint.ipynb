{
 "cells": [
  {
   "cell_type": "code",
   "execution_count": 214,
   "metadata": {},
   "outputs": [],
   "source": [
    "# Import the relevant modules to be used\n",
    "import gzip\n",
    "import matplotlib.image as mpimg\n",
    "import matplotlib.pyplot as plt\n",
    "import numpy as np\n",
    "import struct\n",
    "import random\n",
    "# Config matplotlib for inline plotting\n",
    "%matplotlib inline"
   ]
  },
  {
   "cell_type": "code",
   "execution_count": 296,
   "metadata": {},
   "outputs": [],
   "source": [
    "def validate(description, expected, actual):\n",
    "    if expected != actual:\n",
    "        raise Exception('Invalid ' + description + '. Expected ' + str(expected) + ' but got ' + str(actual))\n",
    "\n",
    "def read_next_int(reader):\n",
    "    return struct.unpack('>I', reader.read(4))[0]\n",
    "\n",
    "def load_images(path, samples, image_resolution):    \n",
    "    try:\n",
    "        with gzip.open(path) as gz:\n",
    "            validate('magic number', 0x0803, read_next_int(gz))            \n",
    "            validate('number of samples', samples, read_next_int(gz))\n",
    "            validate('image resolution', image_resolution, [read_next_int(gz), read_next_int(gz)])            \n",
    "            res = np.frombuffer(gz.read(60000 * 28 * 28), dtype = np.uint8)\n",
    "    finally:\n",
    "        return res.reshape((60000, 28 * 28))\n",
    "\n",
    "def load_labels(path, number_of_samples):    \n",
    "    try:\n",
    "        with gzip.open(path) as gz:\n",
    "            n = struct.unpack('I', gz.read(4))\n",
    "            # Read magic number.\n",
    "            if n[0] != 0x1080000:\n",
    "                raise Exception('Invalid file: unexpected magic number.')\n",
    "            # Read number of entries.\n",
    "            n = struct.unpack('>I', gz.read(4))\n",
    "            if n[0] != number_of_samples:\n",
    "                raise Exception('Invalid file: expected {0} rows.'.format(number_of_samples))\n",
    "            # Read labels.\n",
    "            res = np.frombuffer(gz.read(number_of_samples), dtype = np.uint8)\n",
    "    finally:\n",
    "        return res.reshape((number_of_samples, 1))\n",
    "\n",
    "def load_dataset(images_data_path, labels_data_path, number_of_samples):\n",
    "    images = load_images(images_data_path)\n",
    "    labels = load_labels(labels_data_path, number_of_samples)\n",
    "    return np.hstack((images, labels))"
   ]
  },
  {
   "cell_type": "code",
   "execution_count": 297,
   "metadata": {},
   "outputs": [
    {
     "name": "stdout",
     "output_type": "stream",
     "text": [
      "Loaded training data\n"
     ]
    }
   ],
   "source": [
    "training_dataset = load_dataset(\"data/training_images_idx3_ubyte.gz\", \"data/training_labels_idx1_ubyte.gz\", 60000)\n",
    "print(\"Loaded training data\")\n",
    "\n",
    "# test_dataset  = load_dataset(\"data/test_images_idx3_ubyte.gz\", \"data/test_labels_idx1_ubyte.gz\", 10000)\n",
    "# print(\"Loaded test data\")"
   ]
  },
  {
   "cell_type": "code",
   "execution_count": 298,
   "metadata": {},
   "outputs": [
    {
     "name": "stdout",
     "output_type": "stream",
     "text": [
      "Sample number: # 32528\n",
      "Image Label:  1\n"
     ]
    },
    {
     "data": {
      "image/png": "[encoded data removed]",
      "text/plain": [
       "<Figure size 432x288 with 1 Axes>"
      ]
     },
     "metadata": {
      "needs_background": "light"
     },
     "output_type": "display_data"
    }
   ],
   "source": [
    "# Plot a random image\n",
    "sample_number = random.randint(0,60000)\n",
    "plt.imshow(training_dataset[sample_number,:-1].reshape(28,28), cmap=\"gray_r\")\n",
    "plt.axis('off')\n",
    "print(\"Sample number: #\", sample_number)\n",
    "print(\"Image Label: \", training_dataset[sample_number,-1])"
   ]
  },
  {
   "cell_type": "code",
   "execution_count": 299,
   "metadata": {},
   "outputs": [
    {
     "name": "stdout",
     "output_type": "stream",
     "text": [
      "1\n",
      "2\n"
     ]
    }
   ],
   "source": [
    "[a,b] = [1,2]\n",
    "print(a)\n",
    "print(b)"
   ]
  },
  {
   "cell_type": "code",
   "execution_count": null,
   "metadata": {},
   "outputs": [],
   "source": []
  }
 ],
 "metadata": {
  "kernelspec": {
   "display_name": "Python 3",
   "language": "python",
   "name": "python3"
  },
  "language_info": {
   "codemirror_mode": {
    "name": "ipython",
    "version": 3
   },
   "file_extension": ".py",
   "mimetype": "text/x-python",
   "name": "python",
   "nbconvert_exporter": "python",
   "pygments_lexer": "ipython3",
   "version": "3.7.1"
  }
 },
 "nbformat": 4,
 "nbformat_minor": 2
}
