{
 "cells": [
  {
   "cell_type": "code",
   "execution_count": 29,
   "metadata": {},
   "outputs": [],
   "source": [
    "# Import the relevant modules to be used\n",
    "import gzip\n",
    "import matplotlib.image as mpimg\n",
    "import matplotlib.pyplot as plt\n",
    "import numpy as np\n",
    "import struct\n",
    "\n",
    "# Config matplotlib for inline plotting\n",
    "%matplotlib inline"
   ]
  },
  {
   "cell_type": "code",
   "execution_count": 18,
   "metadata": {},
   "outputs": [],
   "source": [
    "def load_images(path, number_of_samples):    \n",
    "    try:\n",
    "        with gzip.open(path) as gz:\n",
    "            n = struct.unpack('I', gz.read(4))\n",
    "            # Read magic number.\n",
    "            if n[0] != 0x3080000:\n",
    "                raise Exception('Invalid file: unexpected magic number.')\n",
    "            # Read number of entries.\n",
    "            n = struct.unpack('>I', gz.read(4))[0]\n",
    "            if n != number_of_samples:\n",
    "                raise Exception('Invalid file: expected {0} entries.'.format(number_of_samples))\n",
    "            crow = struct.unpack('>I', gz.read(4))[0]\n",
    "            ccol = struct.unpack('>I', gz.read(4))[0]\n",
    "            if crow != 28 or ccol != 28:\n",
    "                raise Exception('Invalid file: expected 28 rows/cols per image.')\n",
    "            # Read data.\n",
    "            res = np.frombuffer(gz.read(number_of_samples * crow * ccol), dtype = np.uint8)\n",
    "    finally:\n",
    "        return res.reshape((number_of_samples, crow * ccol))\n",
    "\n",
    "def load_labels(path, number_of_samples):    \n",
    "    try:\n",
    "        with gzip.open(path) as gz:\n",
    "            n = struct.unpack('I', gz.read(4))\n",
    "            # Read magic number.\n",
    "            if n[0] != 0x1080000:\n",
    "                raise Exception('Invalid file: unexpected magic number.')\n",
    "            # Read number of entries.\n",
    "            n = struct.unpack('>I', gz.read(4))\n",
    "            if n[0] != number_of_samples:\n",
    "                raise Exception('Invalid file: expected {0} rows.'.format(number_of_samples))\n",
    "            # Read labels.\n",
    "            res = np.frombuffer(gz.read(number_of_samples), dtype = np.uint8)\n",
    "    finally:\n",
    "        return res.reshape((number_of_samples, 1))\n",
    "\n",
    "def load_dataset(images_data_path, labels_data_path, number_of_samples):\n",
    "    images = load_images(images_data_path, number_of_samples)\n",
    "    labels = load_labels(labels_data_path, number_of_samples)\n",
    "    return np.hstack((images, labels))"
   ]
  },
  {
   "cell_type": "code",
   "execution_count": 22,
   "metadata": {},
   "outputs": [
    {
     "name": "stdout",
     "output_type": "stream",
     "text": [
      "Loaded training data\n",
      "Loaded test data\n"
     ]
    }
   ],
   "source": [
    "training_dataset = load_dataset(\"data/training_images_idx3_ubyte.gz\", \"data/training_labels_idx1_ubyte.gz\", 60000)\n",
    "print(\"Loaded training data\")\n",
    "\n",
    "test_dataset  = load_dataset(\"data/test_images_idx3_ubyte.gz\", \"data/test_labels_idx1_ubyte.gz\", 10000)\n",
    "print(\"Loaded test data\")"
   ]
  },
  {
   "cell_type": "code",
   "execution_count": 27,
   "metadata": {},
   "outputs": [
    {
     "name": "stdout",
     "output_type": "stream",
     "text": [
      "Image Label:  9\n"
     ]
    },
    {
     "data": {
      "image/png": "[encoded data removed]",
      "text/plain": [
       "<Figure size 432x288 with 1 Axes>"
      ]
     },
     "metadata": {
      "needs_background": "light"
     },
     "output_type": "display_data"
    }
   ],
   "source": [
    "# Plot a random image\n",
    "sample_number = 4\n",
    "plt.imshow(training_dataset[sample_number,:-1].reshape(28,28), cmap=\"gray_r\")\n",
    "plt.axis('off')\n",
    "print(\"Image Label: \", training_dataset[sample_number,-1])"
   ]
  },
  {
   "cell_type": "code",
   "execution_count": null,
   "metadata": {},
   "outputs": [],
   "source": []
  }
 ],
 "metadata": {
  "kernelspec": {
   "display_name": "Python 3",
   "language": "python",
   "name": "python3"
  },
  "language_info": {
   "codemirror_mode": {
    "name": "ipython",
    "version": 3
   },
   "file_extension": ".py",
   "mimetype": "text/x-python",
   "name": "python",
   "nbconvert_exporter": "python",
   "pygments_lexer": "ipython3",
   "version": "3.7.1"
  }
 },
 "nbformat": 4,
 "nbformat_minor": 2
}
